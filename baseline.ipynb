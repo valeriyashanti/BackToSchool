{
 "cells": [
  {
   "cell_type": "code",
   "execution_count": 110,
   "metadata": {},
   "outputs": [],
   "source": [
    "import pandas as pd\n",
    "import numpy as np\n",
    "import seaborn as sns\n",
    "from matplotlib import pyplot as plt\n",
    "from datetime import datetime\n",
    "import math\n",
    "from sklearn.model_selection import StratifiedKFold\n",
    "from sklearn.metrics import roc_auc_score, log_loss\n",
    "from catboost import CatBoostClassifier, Pool\n",
    "\n",
    "pd.set_option('display.max_columns', 500)"
   ]
  },
  {
   "cell_type": "code",
   "execution_count": 97,
   "metadata": {},
   "outputs": [],
   "source": [
    "class Model:\n",
    "    def __init__(self, cat_features_indices, params={'n_estimators': 500, 'learning_rate': 0.07}):\n",
    "        self.cat_features_indices = cat_features_indices\n",
    "        self.params = params\n",
    "        \n",
    "    def fit(self, X, y):\n",
    "        pool = Pool(X, y, cat_features=self.cat_features_indices)\n",
    "        self.model = CatBoostClassifier()\n",
    "        self.model.set_params(**self.params)\n",
    "        \n",
    "        self.model.fit(pool)\n",
    "        \n",
    "    def predict(self, X):\n",
    "        pool = Pool(X, cat_features=self.cat_features_indices)\n",
    "        \n",
    "        pred = self.model.predict_proba(pool)[:, 1]\n",
    "        return pred\n",
    "    \n",
    "    def score(self, X, y):\n",
    "        pred = self.predict(X)\n",
    "        \n",
    "        roc_auc_value = roc_auc_score(y, pred)\n",
    "        log_loss_value = log_loss(y, pred)\n",
    "        return roc_auc_value, log_loss_value\n",
    "    \n",
    "    def cross_validate(self, X, y):\n",
    "        roc_auc_list = []\n",
    "        log_loss_list = []\n",
    "        kf = StratifiedKFold(5, shuffle=True, random_state=1)\n",
    "        \n",
    "        for train_idx, test_idx in kf.split(X, y):\n",
    "            X_train, X_test = X.iloc[train_idx, :], X.iloc[test_idx, :]\n",
    "            y_train, y_test = y[train_idx], y[test_idx]\n",
    "            \n",
    "            self.fit(X_train, y_train)\n",
    "            ra, ll = self.score(X_test, y_test)\n",
    "            \n",
    "            roc_auc_list.append(ra)\n",
    "            log_loss_list.append(ll)\n",
    "        \n",
    "        self.fit(X, y)\n",
    "            \n",
    "        print('ROC AUC: {}'.format(np.mean(roc_auc_folds)))\n",
    "        print('LOG LOSS: {}'.format(np.mean(log_loss_folds)))\n",
    "        print('roc auc folds: {}'.format(roc_auc_folds))\n",
    "        print('log loss folds: {}'.format(log_loss_folds))\n",
    "        return self.model"
   ]
  },
  {
   "cell_type": "code",
   "execution_count": 222,
   "metadata": {},
   "outputs": [],
   "source": [
    "def prep_features(data):\n",
    "    df = data.copy().rename({'Native city': 'city'}, axis=1)\n",
    "    cities = pd.read_csv('data/cities_features.csv', names=['city', 'f1', 'f2','f3', 'f4','f5', 'f6', 'f7', 'f8'])\n",
    "    cities = cities.sort_values(by='f1', ascending=False).drop_duplicates('city', keep='first')\n",
    "    df = df.merge(cities, on='city', how='left')\n",
    "    df.index = data.index\n",
    "    df['full_years'] = ((datetime.now() - df['Birth date']).dt.days / 365).apply(math.floor)\n",
    "    df['contract'] = df['Contract termination date'].isna().astype('int64')\n",
    "    df['Life status'] = df['Life status'].astype(str)\n",
    "    return df"
   ]
  },
  {
   "cell_type": "code",
   "execution_count": 223,
   "metadata": {},
   "outputs": [],
   "source": [
    "train = pd.read_csv('data/train.csv', index_col=0, parse_dates=[1])\n",
    "features = ['full_years','Gender', 'Level', 'Life status', 'day_00', 'day_01', 'day_02',\n",
    "       'day_03', 'day_04', 'day_05', 'day_06', 'day_07', 'day_08', 'day_09',\n",
    "       'day_10', 'day_11', 'day_12', 'day_13', 'evalexpr', 'match_n_match',\n",
    "       'bsq', 'rush_00', 'rush_01', 'rush_02', 'exam_00', 'exam_01', 'exam_02',\n",
    "       'exam_final', 'contract', 'Memory entrance game', 'f1', 'f2','f3', 'f4','f5', 'f6', 'f7', 'f8',\n",
    "        'Logic entrance game']\n",
    "data = prep_features(train)[features]\n",
    "y = train['contract_status'].values"
   ]
  },
  {
   "cell_type": "code",
   "execution_count": 225,
   "metadata": {},
   "outputs": [
    {
     "name": "stdout",
     "output_type": "stream",
     "text": [
      "0:\tlearn: 0.6079055\ttotal: 14ms\tremaining: 6.99s\n",
      "499:\tlearn: 0.0068024\ttotal: 2.75s\tremaining: 0us\n",
      "0:\tlearn: 0.6160149\ttotal: 4.51ms\tremaining: 2.25s\n",
      "499:\tlearn: 0.0061609\ttotal: 2.52s\tremaining: 0us\n",
      "0:\tlearn: 0.6068272\ttotal: 2.63ms\tremaining: 1.31s\n",
      "499:\tlearn: 0.0058749\ttotal: 1.87s\tremaining: 0us\n",
      "0:\tlearn: 0.6288254\ttotal: 2.63ms\tremaining: 1.31s\n",
      "499:\tlearn: 0.0065392\ttotal: 1.7s\tremaining: 0us\n",
      "0:\tlearn: 0.6095084\ttotal: 2.77ms\tremaining: 1.38s\n",
      "499:\tlearn: 0.0057966\ttotal: 1.68s\tremaining: 0us\n",
      "0:\tlearn: 0.6183555\ttotal: 2.85ms\tremaining: 1.42s\n",
      "499:\tlearn: 0.0081450\ttotal: 1.61s\tremaining: 0us\n",
      "ROC AUC: 0.7023253449387719\n",
      "LOG LOSS: 3.2258532359296543\n",
      "roc auc folds: [0.6649844720496894, 0.7954192546583851, 0.6828416149068324, 0.6869229319766346, 0.6814584511023176]\n",
      "log loss folds: [3.7471992916824965, 2.2809040806626504, 3.5842767634167383, 3.0955242653634274, 3.421361778522962]\n"
     ]
    },
    {
     "data": {
      "text/plain": [
       "<catboost.core.CatBoostClassifier at 0x139ef50d0>"
      ]
     },
     "execution_count": 225,
     "metadata": {},
     "output_type": "execute_result"
    }
   ],
   "source": [
    "X = data\n",
    "\n",
    "map_feature_index = {j:i for i,j in enumerate(X.columns)}\n",
    "cat_features = ['Gender', 'Life status']\n",
    "cat_features_indices = [map_feature_index[i] for i in cat_features]\n",
    "\n",
    "model_params = {\n",
    "    'random_state': 12,\n",
    "    'n_estimators': 500,\n",
    "    'learning_rate': 0.07,\n",
    "    'verbose': 500\n",
    "}\n",
    "\n",
    "model = Model(cat_features_indices, model_params)\n",
    "model.cross_validate(X, y)"
   ]
  },
  {
   "cell_type": "code",
   "execution_count": 226,
   "metadata": {},
   "outputs": [],
   "source": [
    "def make_prediction_file(model):\n",
    "    test = pd.read_csv('data/test.csv', index_col=0, parse_dates=[1])\n",
    "    \n",
    "    test_df = prep_features(test)[features]\n",
    "    pred = model.predict(test_df)\n",
    "    pd.DataFrame(pred, index=test_df.index).reset_index().to_csv('prediction.csv', header=['id', 'contract_status'], index=False)\n",
    "    return pred\n"
   ]
  },
  {
   "cell_type": "code",
   "execution_count": 227,
   "metadata": {},
   "outputs": [],
   "source": [
    "pred = make_prediction_file(model)"
   ]
  },
  {
   "cell_type": "code",
   "execution_count": null,
   "metadata": {},
   "outputs": [],
   "source": []
  },
  {
   "cell_type": "code",
   "execution_count": null,
   "metadata": {},
   "outputs": [],
   "source": []
  },
  {
   "cell_type": "code",
   "execution_count": null,
   "metadata": {},
   "outputs": [],
   "source": []
  },
  {
   "cell_type": "code",
   "execution_count": null,
   "metadata": {},
   "outputs": [],
   "source": []
  },
  {
   "cell_type": "code",
   "execution_count": null,
   "metadata": {},
   "outputs": [],
   "source": []
  },
  {
   "cell_type": "code",
   "execution_count": null,
   "metadata": {},
   "outputs": [],
   "source": []
  },
  {
   "cell_type": "code",
   "execution_count": null,
   "metadata": {},
   "outputs": [],
   "source": []
  },
  {
   "cell_type": "code",
   "execution_count": null,
   "metadata": {},
   "outputs": [],
   "source": []
  },
  {
   "cell_type": "code",
   "execution_count": null,
   "metadata": {},
   "outputs": [],
   "source": []
  },
  {
   "cell_type": "code",
   "execution_count": null,
   "metadata": {},
   "outputs": [],
   "source": []
  },
  {
   "cell_type": "code",
   "execution_count": null,
   "metadata": {},
   "outputs": [],
   "source": []
  },
  {
   "cell_type": "code",
   "execution_count": null,
   "metadata": {},
   "outputs": [],
   "source": []
  },
  {
   "cell_type": "code",
   "execution_count": null,
   "metadata": {},
   "outputs": [],
   "source": []
  }
 ],
 "metadata": {
  "kernelspec": {
   "display_name": "Python 3",
   "language": "python",
   "name": "python3"
  },
  "language_info": {
   "codemirror_mode": {
    "name": "ipython",
    "version": 3
   },
   "file_extension": ".py",
   "mimetype": "text/x-python",
   "name": "python",
   "nbconvert_exporter": "python",
   "pygments_lexer": "ipython3",
   "version": "3.7.6"
  }
 },
 "nbformat": 4,
 "nbformat_minor": 2
}
